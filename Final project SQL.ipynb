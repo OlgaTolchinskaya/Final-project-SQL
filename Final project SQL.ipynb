{
 "cells": [
  {
   "cell_type": "markdown",
   "metadata": {},
   "source": [
    "<div class=\"alert alert-info\">\n",
    "Привет, Ольга! Меня зовут Светлана Чих и я буду проверять твой проект. Моя основная цель — не указать на совершенные тобою ошибки, а поделиться своим опытом и помочь тебе. Предлагаю общаться на «ты». Но если это не удобно - дай знать, и мы перейдем на «вы».\n",
    "\n",
    "<div class=\"alert alert-success\">\n",
    "<b>👍 Успех:</b> Зелёным цветом отмечены удачные и элегантные решения, на которые можно опираться в будущих проектах.\n",
    "</div>\n",
    "<div class=\"alert alert-warning\">\n",
    "<b>🤔 Рекомендация:</b> Жёлтым цветом выделено то, что в следующий раз можно сделать по-другому. Ты можешь учесть эти комментарии при выполнении будущих заданий или доработать проект сейчас (однако это не обязательно).\n",
    "</div>\n",
    "<div class=\"alert alert-danger\">\n",
    "<b>😔 Необходимо исправить:</b> Красным цветом выделены комментарии, без исправления которых, я не смогу принять проект :(\n",
    "</div>\n",
    "<div class=\"alert alert-info\">\n",
    "<b>👂 Совет:</b> Какие-то дополнительные материалы\n",
    "</div>\n",
    "Давай работать над проектом в диалоге: если ты что-то меняешь в проекте по моим рекомендациям — пиши об этом.\n",
    "Мне будет легче отследить изменения, если ты выделишь свои комментарии:\n",
    "<div class=\"alert alert-info\"> <b>🎓 Комментарий студента:</b> Например, вот так.</div>\n",
    "Пожалуйста, не перемещай, не изменяй и не удаляй мои комментарии. Всё это поможет выполнить повторную проверку твоего проекта быстрее.\n",
    " </div>"
   ]
  },
  {
   "cell_type": "markdown",
   "metadata": {},
   "source": [
    "**SQL**\n",
    "\n",
    "**Цель исследования** - проанализировать базу данных сервиса для чтения книг по подписке и сформулировать ценностное предложение для нового продукта.\n",
    "\n",
    "**Объект исследования** - база данных сервиса для чтения книг по подписке. \n",
    "\n",
    "1. [Исследование таблиц](#1)\n",
    "2. [Задача 1. Посчитайте, сколько книг вышло после 1 января 2000 года](#2)\n",
    "3. [Задача 2. Для каждой книги посчитайте количество обзоров и среднюю оценку](#3)\n",
    "4. [Задача 3. Определите издательство, которое выпустило наибольшее число книг толще 50 страниц — так вы исключите из анализа брошюры](#4)\n",
    "5. [Задача 4. Определите автора с самой высокой средней оценкой книг — учитывайте только книги с 50 и более оценками](#5)\n",
    "6. [Задача 5. Посчитайте среднее количество обзоров от пользователей, которые поставили больше 50 оценок](#6)\n",
    "7. [Выводы](#7)"
   ]
  },
  {
   "cell_type": "code",
   "execution_count": 1,
   "metadata": {},
   "outputs": [],
   "source": [
    "# импортируем библиотеки\n",
    "import pandas as pd \n",
    "from sqlalchemy import create_engine \n",
    "# устанавливаем параметры\n",
    "db_config = {'user': 'praktikum_student', # имя пользователя\n",
    "'pwd': 'Sdf4$2;d-d30pp', # пароль\n",
    "'host': 'rc1b-wcoijxj3yxfsf3fs.mdb.yandexcloud.net', \n",
    "'port': 6432, # порт подключения\n",
    "'db': 'data-analyst-final-project-db'} # название базы данных\n",
    "connection_string = 'postgresql://{}:{}@{}:{}/{}'.format(db_config['user'], \n",
    " db_config['pwd'], \n",
    " db_config['host'], \n",
    " db_config['port'], \n",
    " db_config['db']) \n",
    "# сохраняем коннектор\n",
    "engine = create_engine(connection_string, connect_args={'sslmode':'require'})"
   ]
  },
  {
   "cell_type": "markdown",
   "metadata": {},
   "source": [
    "<a id=\"1\"></a> **1. Исследование таблиц** "
   ]
  },
  {
   "cell_type": "code",
   "execution_count": 2,
   "metadata": {},
   "outputs": [
    {
     "data": {
      "text/html": [
       "<div>\n",
       "<style scoped>\n",
       "    .dataframe tbody tr th:only-of-type {\n",
       "        vertical-align: middle;\n",
       "    }\n",
       "\n",
       "    .dataframe tbody tr th {\n",
       "        vertical-align: top;\n",
       "    }\n",
       "\n",
       "    .dataframe thead th {\n",
       "        text-align: right;\n",
       "    }\n",
       "</style>\n",
       "<table border=\"1\" class=\"dataframe\">\n",
       "  <thead>\n",
       "    <tr style=\"text-align: right;\">\n",
       "      <th></th>\n",
       "      <th>book_id</th>\n",
       "      <th>author_id</th>\n",
       "      <th>title</th>\n",
       "      <th>num_pages</th>\n",
       "      <th>publication_date</th>\n",
       "      <th>publisher_id</th>\n",
       "    </tr>\n",
       "  </thead>\n",
       "  <tbody>\n",
       "    <tr>\n",
       "      <th>0</th>\n",
       "      <td>1</td>\n",
       "      <td>546</td>\n",
       "      <td>'Salem's Lot</td>\n",
       "      <td>594</td>\n",
       "      <td>2005-11-01</td>\n",
       "      <td>93</td>\n",
       "    </tr>\n",
       "    <tr>\n",
       "      <th>1</th>\n",
       "      <td>2</td>\n",
       "      <td>465</td>\n",
       "      <td>1 000 Places to See Before You Die</td>\n",
       "      <td>992</td>\n",
       "      <td>2003-05-22</td>\n",
       "      <td>336</td>\n",
       "    </tr>\n",
       "    <tr>\n",
       "      <th>2</th>\n",
       "      <td>3</td>\n",
       "      <td>407</td>\n",
       "      <td>13 Little Blue Envelopes (Little Blue Envelope...</td>\n",
       "      <td>322</td>\n",
       "      <td>2010-12-21</td>\n",
       "      <td>135</td>\n",
       "    </tr>\n",
       "  </tbody>\n",
       "</table>\n",
       "</div>"
      ],
      "text/plain": [
       "   book_id  author_id                                              title  \\\n",
       "0        1        546                                       'Salem's Lot   \n",
       "1        2        465                 1 000 Places to See Before You Die   \n",
       "2        3        407  13 Little Blue Envelopes (Little Blue Envelope...   \n",
       "\n",
       "   num_pages publication_date  publisher_id  \n",
       "0        594       2005-11-01            93  \n",
       "1        992       2003-05-22           336  \n",
       "2        322       2010-12-21           135  "
      ]
     },
     "execution_count": 2,
     "metadata": {},
     "output_type": "execute_result"
    }
   ],
   "source": [
    "query = ''' SELECT *\n",
    "            FROM books\n",
    "            LIMIT 3\n",
    "        ''' \n",
    "pd.io.sql.read_sql(query, con = engine)"
   ]
  },
  {
   "cell_type": "code",
   "execution_count": 3,
   "metadata": {},
   "outputs": [
    {
     "data": {
      "text/html": [
       "<div>\n",
       "<style scoped>\n",
       "    .dataframe tbody tr th:only-of-type {\n",
       "        vertical-align: middle;\n",
       "    }\n",
       "\n",
       "    .dataframe tbody tr th {\n",
       "        vertical-align: top;\n",
       "    }\n",
       "\n",
       "    .dataframe thead th {\n",
       "        text-align: right;\n",
       "    }\n",
       "</style>\n",
       "<table border=\"1\" class=\"dataframe\">\n",
       "  <thead>\n",
       "    <tr style=\"text-align: right;\">\n",
       "      <th></th>\n",
       "      <th>author_id</th>\n",
       "      <th>author</th>\n",
       "    </tr>\n",
       "  </thead>\n",
       "  <tbody>\n",
       "    <tr>\n",
       "      <th>0</th>\n",
       "      <td>1</td>\n",
       "      <td>A.S. Byatt</td>\n",
       "    </tr>\n",
       "    <tr>\n",
       "      <th>1</th>\n",
       "      <td>2</td>\n",
       "      <td>Aesop/Laura Harris/Laura Gibbs</td>\n",
       "    </tr>\n",
       "    <tr>\n",
       "      <th>2</th>\n",
       "      <td>3</td>\n",
       "      <td>Agatha Christie</td>\n",
       "    </tr>\n",
       "  </tbody>\n",
       "</table>\n",
       "</div>"
      ],
      "text/plain": [
       "   author_id                          author\n",
       "0          1                      A.S. Byatt\n",
       "1          2  Aesop/Laura Harris/Laura Gibbs\n",
       "2          3                 Agatha Christie"
      ]
     },
     "execution_count": 3,
     "metadata": {},
     "output_type": "execute_result"
    }
   ],
   "source": [
    "query = ''' SELECT *\n",
    "            FROM authors\n",
    "            LIMIT 3\n",
    "        ''' \n",
    "pd.io.sql.read_sql(query, con = engine)"
   ]
  },
  {
   "cell_type": "code",
   "execution_count": 4,
   "metadata": {},
   "outputs": [
    {
     "data": {
      "text/html": [
       "<div>\n",
       "<style scoped>\n",
       "    .dataframe tbody tr th:only-of-type {\n",
       "        vertical-align: middle;\n",
       "    }\n",
       "\n",
       "    .dataframe tbody tr th {\n",
       "        vertical-align: top;\n",
       "    }\n",
       "\n",
       "    .dataframe thead th {\n",
       "        text-align: right;\n",
       "    }\n",
       "</style>\n",
       "<table border=\"1\" class=\"dataframe\">\n",
       "  <thead>\n",
       "    <tr style=\"text-align: right;\">\n",
       "      <th></th>\n",
       "      <th>publisher_id</th>\n",
       "      <th>publisher</th>\n",
       "    </tr>\n",
       "  </thead>\n",
       "  <tbody>\n",
       "    <tr>\n",
       "      <th>0</th>\n",
       "      <td>1</td>\n",
       "      <td>Ace</td>\n",
       "    </tr>\n",
       "    <tr>\n",
       "      <th>1</th>\n",
       "      <td>2</td>\n",
       "      <td>Ace Book</td>\n",
       "    </tr>\n",
       "    <tr>\n",
       "      <th>2</th>\n",
       "      <td>3</td>\n",
       "      <td>Ace Books</td>\n",
       "    </tr>\n",
       "  </tbody>\n",
       "</table>\n",
       "</div>"
      ],
      "text/plain": [
       "   publisher_id  publisher\n",
       "0             1        Ace\n",
       "1             2   Ace Book\n",
       "2             3  Ace Books"
      ]
     },
     "execution_count": 4,
     "metadata": {},
     "output_type": "execute_result"
    }
   ],
   "source": [
    "query = ''' SELECT *\n",
    "            FROM publishers\n",
    "            LIMIT 3\n",
    "        ''' \n",
    "pd.io.sql.read_sql(query, con = engine)"
   ]
  },
  {
   "cell_type": "code",
   "execution_count": 5,
   "metadata": {},
   "outputs": [
    {
     "data": {
      "text/html": [
       "<div>\n",
       "<style scoped>\n",
       "    .dataframe tbody tr th:only-of-type {\n",
       "        vertical-align: middle;\n",
       "    }\n",
       "\n",
       "    .dataframe tbody tr th {\n",
       "        vertical-align: top;\n",
       "    }\n",
       "\n",
       "    .dataframe thead th {\n",
       "        text-align: right;\n",
       "    }\n",
       "</style>\n",
       "<table border=\"1\" class=\"dataframe\">\n",
       "  <thead>\n",
       "    <tr style=\"text-align: right;\">\n",
       "      <th></th>\n",
       "      <th>rating_id</th>\n",
       "      <th>book_id</th>\n",
       "      <th>username</th>\n",
       "      <th>rating</th>\n",
       "    </tr>\n",
       "  </thead>\n",
       "  <tbody>\n",
       "    <tr>\n",
       "      <th>0</th>\n",
       "      <td>1</td>\n",
       "      <td>1</td>\n",
       "      <td>ryanfranco</td>\n",
       "      <td>4</td>\n",
       "    </tr>\n",
       "    <tr>\n",
       "      <th>1</th>\n",
       "      <td>2</td>\n",
       "      <td>1</td>\n",
       "      <td>grantpatricia</td>\n",
       "      <td>2</td>\n",
       "    </tr>\n",
       "    <tr>\n",
       "      <th>2</th>\n",
       "      <td>3</td>\n",
       "      <td>1</td>\n",
       "      <td>brandtandrea</td>\n",
       "      <td>5</td>\n",
       "    </tr>\n",
       "  </tbody>\n",
       "</table>\n",
       "</div>"
      ],
      "text/plain": [
       "   rating_id  book_id       username  rating\n",
       "0          1        1     ryanfranco       4\n",
       "1          2        1  grantpatricia       2\n",
       "2          3        1   brandtandrea       5"
      ]
     },
     "execution_count": 5,
     "metadata": {},
     "output_type": "execute_result"
    }
   ],
   "source": [
    "query = ''' SELECT *\n",
    "            FROM ratings\n",
    "            LIMIT 3\n",
    "        ''' \n",
    "pd.io.sql.read_sql(query, con = engine)"
   ]
  },
  {
   "cell_type": "code",
   "execution_count": 6,
   "metadata": {},
   "outputs": [
    {
     "data": {
      "text/html": [
       "<div>\n",
       "<style scoped>\n",
       "    .dataframe tbody tr th:only-of-type {\n",
       "        vertical-align: middle;\n",
       "    }\n",
       "\n",
       "    .dataframe tbody tr th {\n",
       "        vertical-align: top;\n",
       "    }\n",
       "\n",
       "    .dataframe thead th {\n",
       "        text-align: right;\n",
       "    }\n",
       "</style>\n",
       "<table border=\"1\" class=\"dataframe\">\n",
       "  <thead>\n",
       "    <tr style=\"text-align: right;\">\n",
       "      <th></th>\n",
       "      <th>review_id</th>\n",
       "      <th>book_id</th>\n",
       "      <th>username</th>\n",
       "      <th>text</th>\n",
       "    </tr>\n",
       "  </thead>\n",
       "  <tbody>\n",
       "    <tr>\n",
       "      <th>0</th>\n",
       "      <td>1</td>\n",
       "      <td>1</td>\n",
       "      <td>brandtandrea</td>\n",
       "      <td>Mention society tell send professor analysis. ...</td>\n",
       "    </tr>\n",
       "    <tr>\n",
       "      <th>1</th>\n",
       "      <td>2</td>\n",
       "      <td>1</td>\n",
       "      <td>ryanfranco</td>\n",
       "      <td>Foot glass pretty audience hit themselves. Amo...</td>\n",
       "    </tr>\n",
       "    <tr>\n",
       "      <th>2</th>\n",
       "      <td>3</td>\n",
       "      <td>2</td>\n",
       "      <td>lorichen</td>\n",
       "      <td>Listen treat keep worry. Miss husband tax but ...</td>\n",
       "    </tr>\n",
       "  </tbody>\n",
       "</table>\n",
       "</div>"
      ],
      "text/plain": [
       "   review_id  book_id      username  \\\n",
       "0          1        1  brandtandrea   \n",
       "1          2        1    ryanfranco   \n",
       "2          3        2      lorichen   \n",
       "\n",
       "                                                text  \n",
       "0  Mention society tell send professor analysis. ...  \n",
       "1  Foot glass pretty audience hit themselves. Amo...  \n",
       "2  Listen treat keep worry. Miss husband tax but ...  "
      ]
     },
     "execution_count": 6,
     "metadata": {},
     "output_type": "execute_result"
    }
   ],
   "source": [
    "query = ''' SELECT *\n",
    "            FROM reviews\n",
    "            LIMIT 3\n",
    "        ''' \n",
    "pd.io.sql.read_sql(query, con = engine)"
   ]
  },
  {
   "cell_type": "markdown",
   "metadata": {},
   "source": [
    " <div class=\"alert alert-success\">\n",
    " <b>👍 Успех:</b> Есть описание задачи, импортированы все нужные библиотеки, создано подключение к БД, просмотрены таблицы\n",
    " </div>"
   ]
  },
  {
   "cell_type": "markdown",
   "metadata": {},
   "source": [
    "<a id=\"2\"></a> **2. Посчитайте, сколько книг вышло после 1 января 2000 года**"
   ]
  },
  {
   "cell_type": "code",
   "execution_count": 7,
   "metadata": {},
   "outputs": [
    {
     "data": {
      "text/html": [
       "<div>\n",
       "<style scoped>\n",
       "    .dataframe tbody tr th:only-of-type {\n",
       "        vertical-align: middle;\n",
       "    }\n",
       "\n",
       "    .dataframe tbody tr th {\n",
       "        vertical-align: top;\n",
       "    }\n",
       "\n",
       "    .dataframe thead th {\n",
       "        text-align: right;\n",
       "    }\n",
       "</style>\n",
       "<table border=\"1\" class=\"dataframe\">\n",
       "  <thead>\n",
       "    <tr style=\"text-align: right;\">\n",
       "      <th></th>\n",
       "      <th>count</th>\n",
       "    </tr>\n",
       "  </thead>\n",
       "  <tbody>\n",
       "    <tr>\n",
       "      <th>0</th>\n",
       "      <td>819</td>\n",
       "    </tr>\n",
       "  </tbody>\n",
       "</table>\n",
       "</div>"
      ],
      "text/plain": [
       "   count\n",
       "0    819"
      ]
     },
     "execution_count": 7,
     "metadata": {},
     "output_type": "execute_result"
    }
   ],
   "source": [
    "query = ''' SELECT COUNT(title)\n",
    "            FROM books\n",
    "            WHERE publication_date > '01.01.2000'\n",
    "        ''' \n",
    "pd.io.sql.read_sql(query, con = engine)"
   ]
  },
  {
   "cell_type": "markdown",
   "metadata": {},
   "source": [
    "После 1 января 2000 года вышло 819 книг."
   ]
  },
  {
   "cell_type": "markdown",
   "metadata": {},
   "source": [
    " <div class=\"alert alert-success\">\n",
    " <b>👍 Успех:</b> Все верно!\n",
    " </div>"
   ]
  },
  {
   "cell_type": "markdown",
   "metadata": {},
   "source": [
    "<a id=\"3\"></a> **3. Для каждой книги посчитайте количество обзоров и среднюю оценку**"
   ]
  },
  {
   "cell_type": "code",
   "execution_count": 8,
   "metadata": {},
   "outputs": [
    {
     "data": {
      "text/html": [
       "<div>\n",
       "<style scoped>\n",
       "    .dataframe tbody tr th:only-of-type {\n",
       "        vertical-align: middle;\n",
       "    }\n",
       "\n",
       "    .dataframe tbody tr th {\n",
       "        vertical-align: top;\n",
       "    }\n",
       "\n",
       "    .dataframe thead th {\n",
       "        text-align: right;\n",
       "    }\n",
       "</style>\n",
       "<table border=\"1\" class=\"dataframe\">\n",
       "  <thead>\n",
       "    <tr style=\"text-align: right;\">\n",
       "      <th></th>\n",
       "      <th>book_id</th>\n",
       "      <th>title</th>\n",
       "      <th>rating_avg</th>\n",
       "      <th>review_count</th>\n",
       "    </tr>\n",
       "  </thead>\n",
       "  <tbody>\n",
       "    <tr>\n",
       "      <th>0</th>\n",
       "      <td>1</td>\n",
       "      <td>'Salem's Lot</td>\n",
       "      <td>3.7</td>\n",
       "      <td>2</td>\n",
       "    </tr>\n",
       "    <tr>\n",
       "      <th>1</th>\n",
       "      <td>2</td>\n",
       "      <td>1 000 Places to See Before You Die</td>\n",
       "      <td>2.5</td>\n",
       "      <td>1</td>\n",
       "    </tr>\n",
       "    <tr>\n",
       "      <th>2</th>\n",
       "      <td>3</td>\n",
       "      <td>13 Little Blue Envelopes (Little Blue Envelope...</td>\n",
       "      <td>4.7</td>\n",
       "      <td>3</td>\n",
       "    </tr>\n",
       "    <tr>\n",
       "      <th>3</th>\n",
       "      <td>4</td>\n",
       "      <td>1491: New Revelations of the Americas Before C...</td>\n",
       "      <td>4.5</td>\n",
       "      <td>2</td>\n",
       "    </tr>\n",
       "    <tr>\n",
       "      <th>4</th>\n",
       "      <td>5</td>\n",
       "      <td>1776</td>\n",
       "      <td>4.0</td>\n",
       "      <td>4</td>\n",
       "    </tr>\n",
       "    <tr>\n",
       "      <th>...</th>\n",
       "      <td>...</td>\n",
       "      <td>...</td>\n",
       "      <td>...</td>\n",
       "      <td>...</td>\n",
       "    </tr>\n",
       "    <tr>\n",
       "      <th>995</th>\n",
       "      <td>996</td>\n",
       "      <td>Wyrd Sisters (Discworld  #6; Witches #2)</td>\n",
       "      <td>3.7</td>\n",
       "      <td>3</td>\n",
       "    </tr>\n",
       "    <tr>\n",
       "      <th>996</th>\n",
       "      <td>997</td>\n",
       "      <td>Xenocide (Ender's Saga  #3)</td>\n",
       "      <td>3.4</td>\n",
       "      <td>3</td>\n",
       "    </tr>\n",
       "    <tr>\n",
       "      <th>997</th>\n",
       "      <td>998</td>\n",
       "      <td>Year of Wonders</td>\n",
       "      <td>3.2</td>\n",
       "      <td>4</td>\n",
       "    </tr>\n",
       "    <tr>\n",
       "      <th>998</th>\n",
       "      <td>999</td>\n",
       "      <td>You Suck (A Love Story  #2)</td>\n",
       "      <td>4.5</td>\n",
       "      <td>2</td>\n",
       "    </tr>\n",
       "    <tr>\n",
       "      <th>999</th>\n",
       "      <td>1000</td>\n",
       "      <td>Zen and the Art of Motorcycle Maintenance: An ...</td>\n",
       "      <td>3.8</td>\n",
       "      <td>4</td>\n",
       "    </tr>\n",
       "  </tbody>\n",
       "</table>\n",
       "<p>1000 rows × 4 columns</p>\n",
       "</div>"
      ],
      "text/plain": [
       "     book_id                                              title  rating_avg  \\\n",
       "0          1                                       'Salem's Lot         3.7   \n",
       "1          2                 1 000 Places to See Before You Die         2.5   \n",
       "2          3  13 Little Blue Envelopes (Little Blue Envelope...         4.7   \n",
       "3          4  1491: New Revelations of the Americas Before C...         4.5   \n",
       "4          5                                               1776         4.0   \n",
       "..       ...                                                ...         ...   \n",
       "995      996           Wyrd Sisters (Discworld  #6; Witches #2)         3.7   \n",
       "996      997                        Xenocide (Ender's Saga  #3)         3.4   \n",
       "997      998                                    Year of Wonders         3.2   \n",
       "998      999                        You Suck (A Love Story  #2)         4.5   \n",
       "999     1000  Zen and the Art of Motorcycle Maintenance: An ...         3.8   \n",
       "\n",
       "     review_count  \n",
       "0               2  \n",
       "1               1  \n",
       "2               3  \n",
       "3               2  \n",
       "4               4  \n",
       "..            ...  \n",
       "995             3  \n",
       "996             3  \n",
       "997             4  \n",
       "998             2  \n",
       "999             4  \n",
       "\n",
       "[1000 rows x 4 columns]"
      ]
     },
     "execution_count": 8,
     "metadata": {},
     "output_type": "execute_result"
    }
   ],
   "source": [
    "query = ''' SELECT b.book_id,\n",
    "                   b.title, \n",
    "                   ROUND(AVG(rating),1) AS rating_avg,\n",
    "                   COUNT(DISTINCT text) AS review_count\n",
    "            FROM books AS b\n",
    "            LEFT JOIN reviews AS r ON b.book_id = r.book_id\n",
    "            LEFT JOIN ratings AS rt ON b.book_id = rt.book_id\n",
    "            GROUP BY b.book_id\n",
    "            -- HAVING ROUND(AVG(rating),1)  >=4\n",
    "            -- ORDER BY rating_avg DESC, review_count DESC\n",
    "            -- LIMIT 10\n",
    "        ''' \n",
    "pd.io.sql.read_sql(query, con = engine)"
   ]
  },
  {
   "cell_type": "markdown",
   "metadata": {},
   "source": [
    "Для каждой книги посчитали количество обзоров и среднюю оценку. Результат отсортировали по убыванию среднего рейтинга."
   ]
  },
  {
   "cell_type": "markdown",
   "metadata": {},
   "source": [
    " <div class=\"alert alert-danger\">\n",
    " <s><b>😔 Необходимо исправить:</b> А почему не все книги вошли? В задаче нет никаких условий по рейтингу</s>\n",
    " </div>"
   ]
  },
  {
   "cell_type": "markdown",
   "metadata": {},
   "source": [
    " <div class=\"alert alert-info\"> <b>🎓 Комментарий студента:</b> Исправила. Подумала, что нужно результат задачи под цель исследования подвести и сделала чуть больше :) </div>"
   ]
  },
  {
   "cell_type": "markdown",
   "metadata": {},
   "source": [
    " <div class=\"alert alert-success\">\n",
    " <b>👍 Успех:</b> Все верно!\n",
    " </div>"
   ]
  },
  {
   "cell_type": "markdown",
   "metadata": {},
   "source": [
    "<a id=\"4\"></a> **4. Определите издательство, которое выпустило наибольшее число книг толще 50 страниц — так вы исключите из анализа брошюры**"
   ]
  },
  {
   "cell_type": "code",
   "execution_count": 9,
   "metadata": {},
   "outputs": [
    {
     "data": {
      "text/html": [
       "<div>\n",
       "<style scoped>\n",
       "    .dataframe tbody tr th:only-of-type {\n",
       "        vertical-align: middle;\n",
       "    }\n",
       "\n",
       "    .dataframe tbody tr th {\n",
       "        vertical-align: top;\n",
       "    }\n",
       "\n",
       "    .dataframe thead th {\n",
       "        text-align: right;\n",
       "    }\n",
       "</style>\n",
       "<table border=\"1\" class=\"dataframe\">\n",
       "  <thead>\n",
       "    <tr style=\"text-align: right;\">\n",
       "      <th></th>\n",
       "      <th>publisher</th>\n",
       "    </tr>\n",
       "  </thead>\n",
       "  <tbody>\n",
       "    <tr>\n",
       "      <th>0</th>\n",
       "      <td>Penguin Books</td>\n",
       "    </tr>\n",
       "  </tbody>\n",
       "</table>\n",
       "</div>"
      ],
      "text/plain": [
       "       publisher\n",
       "0  Penguin Books"
      ]
     },
     "execution_count": 9,
     "metadata": {},
     "output_type": "execute_result"
    }
   ],
   "source": [
    "query = ''' SELECT t.publisher\n",
    "            FROM\n",
    "            (\n",
    "                 SELECT p.publisher_id,\n",
    "                        p.publisher,\n",
    "                        count(title)  \n",
    "                 FROM publishers AS p\n",
    "                 LEFT JOIN books AS b ON p.publisher_id = b.publisher_id\n",
    "                 WHERE b.num_pages > 50\n",
    "                 GROUP BY p.publisher_id\n",
    "                 ORDER BY count DESC\n",
    "             ) AS t    \n",
    "            LIMIT 1\n",
    "        ''' \n",
    "pd.io.sql.read_sql(query, con = engine)"
   ]
  },
  {
   "cell_type": "markdown",
   "metadata": {},
   "source": [
    "Издательство, которое выпустило наибольшее число книг толще 50 страниц - Penguin Books"
   ]
  },
  {
   "cell_type": "markdown",
   "metadata": {},
   "source": [
    " <div class=\"alert alert-success\">\n",
    " <b>👍 Успех:</b> Все верно!\n",
    " </div>"
   ]
  },
  {
   "cell_type": "markdown",
   "metadata": {},
   "source": [
    "<a id=\"5\"></a> **5. Определите автора с самой высокой средней оценкой книг — учитывайте только книги с 50 и более оценками**"
   ]
  },
  {
   "cell_type": "code",
   "execution_count": 10,
   "metadata": {},
   "outputs": [
    {
     "data": {
      "text/html": [
       "<div>\n",
       "<style scoped>\n",
       "    .dataframe tbody tr th:only-of-type {\n",
       "        vertical-align: middle;\n",
       "    }\n",
       "\n",
       "    .dataframe tbody tr th {\n",
       "        vertical-align: top;\n",
       "    }\n",
       "\n",
       "    .dataframe thead th {\n",
       "        text-align: right;\n",
       "    }\n",
       "</style>\n",
       "<table border=\"1\" class=\"dataframe\">\n",
       "  <thead>\n",
       "    <tr style=\"text-align: right;\">\n",
       "      <th></th>\n",
       "      <th>author</th>\n",
       "    </tr>\n",
       "  </thead>\n",
       "  <tbody>\n",
       "    <tr>\n",
       "      <th>0</th>\n",
       "      <td>J.K. Rowling/Mary GrandPré</td>\n",
       "    </tr>\n",
       "  </tbody>\n",
       "</table>\n",
       "</div>"
      ],
      "text/plain": [
       "                       author\n",
       "0  J.K. Rowling/Mary GrandPré"
      ]
     },
     "execution_count": 10,
     "metadata": {},
     "output_type": "execute_result"
    }
   ],
   "source": [
    "query = '''SELECT tt.author\n",
    "           FROM \n",
    "               (\n",
    "                SELECT t.author,     \n",
    "                AVG(rating) AS rating_avg\n",
    "                FROM \n",
    "                    (\n",
    "                     SELECT  a.author,\n",
    "                             b.title,\n",
    "                             COUNT(rt.rating) OVER (PARTITION BY a.author, b.title) AS rating_count,\n",
    "                             rt.rating\n",
    "                     FROM author AS a\n",
    "                     LEFT JOIN books AS b ON a.author_id = b.author_id\n",
    "                     LEFT JOIN ratings AS rt ON b.book_id = rt.book_id\n",
    "                  \n",
    "                     ) AS t\n",
    "               \n",
    "                WHERE rating_count >= 50\n",
    "                GROUP BY t.author \n",
    "                ORDER BY rating_avg DESC\n",
    "                ) AS tt\n",
    "           \n",
    "           LIMIT 1\n",
    "        ''' \n",
    "pd.io.sql.read_sql(query, con = engine)"
   ]
  },
  {
   "cell_type": "markdown",
   "metadata": {},
   "source": [
    "Среди книг с 50 и более оценками и с самой высокой средней оценкой книг лидирует автор J.K. Rowling/Mary GrandPré."
   ]
  },
  {
   "cell_type": "markdown",
   "metadata": {},
   "source": [
    " <div class=\"alert alert-success\">\n",
    " <b>👍 Успех:</b> Все верно!\n",
    " </div>"
   ]
  },
  {
   "cell_type": "markdown",
   "metadata": {},
   "source": [
    "<a id=\"6\"></a> **6. Посчитайте среднее количество обзоров от пользователей, которые поставили больше 50 оценок**"
   ]
  },
  {
   "cell_type": "code",
   "execution_count": 11,
   "metadata": {},
   "outputs": [
    {
     "data": {
      "text/html": [
       "<div>\n",
       "<style scoped>\n",
       "    .dataframe tbody tr th:only-of-type {\n",
       "        vertical-align: middle;\n",
       "    }\n",
       "\n",
       "    .dataframe tbody tr th {\n",
       "        vertical-align: top;\n",
       "    }\n",
       "\n",
       "    .dataframe thead th {\n",
       "        text-align: right;\n",
       "    }\n",
       "</style>\n",
       "<table border=\"1\" class=\"dataframe\">\n",
       "  <thead>\n",
       "    <tr style=\"text-align: right;\">\n",
       "      <th></th>\n",
       "      <th>review_avg</th>\n",
       "    </tr>\n",
       "  </thead>\n",
       "  <tbody>\n",
       "    <tr>\n",
       "      <th>0</th>\n",
       "      <td>24.0</td>\n",
       "    </tr>\n",
       "  </tbody>\n",
       "</table>\n",
       "</div>"
      ],
      "text/plain": [
       "   review_avg\n",
       "0        24.0"
      ]
     },
     "execution_count": 11,
     "metadata": {},
     "output_type": "execute_result"
    }
   ],
   "source": [
    "query = '''SELECT ROUND(AVG(tt.review_count)) AS review_avg\n",
    "           FROM \n",
    "              (\n",
    "               SELECT username,\n",
    "                      COUNT(text) AS review_count\n",
    "               FROM reviews\n",
    "               WHERE username IN\n",
    "                  (\n",
    "                   SELECT t.username\n",
    "                   FROM\n",
    "                      (\n",
    "                       SELECT username,\n",
    "                              COUNT(rating) AS rating_count\n",
    "                       FROM ratings \n",
    "                       GROUP BY username\n",
    "                       ) AS t\n",
    "                   WHERE t.rating_count > 50 \n",
    "              \n",
    "                  ) \n",
    "           GROUP BY username   \n",
    "              ) AS tt\n",
    "                               \n",
    "                         '''\n",
    "pd.io.sql.read_sql(query, con = engine)"
   ]
  },
  {
   "cell_type": "markdown",
   "metadata": {},
   "source": [
    "Пользователи, которые поставили больше 50 оценок, делают в среднем 24 обзора."
   ]
  },
  {
   "cell_type": "markdown",
   "metadata": {},
   "source": [
    " <div class=\"alert alert-success\">\n",
    " <b>👍 Успех:</b> Все верно!\n",
    " </div>"
   ]
  },
  {
   "cell_type": "markdown",
   "metadata": {},
   "source": [
    "<a id=\"7\"></a> **7. Вывод**\n",
    "\n",
    "- выяснили, что после 1 января 2000 года вышло всего 819 книг.\n",
    "\n",
    "- выявили список книг со средними рейтингами и количеством отзывов, что позволит фильтровать книги с наилучшими показателями: максимальным средним рейтингом и максимальным количествои отзывов.\n",
    "\n",
    "- определили издательство, которое выпустило наибольшее число книг толще 50 страниц - это Penguin Books - издательство, с которым выгодно сотрудничать.\n",
    "\n",
    "- среди наиболее популярных книг (с 50 и более оценками и с самой высокой средней оценкой) выявили лидера - это автор J.K. Rowling/Mary GrandPré. Кники данного автора наиболее продаваемые.\n",
    "\n",
    "- самые активные пользователи (которые поставили больше 50 оценок) делают в среднем 24 обзора, что позволяет другим читателям выьирать и покупать книги.\n"
   ]
  },
  {
   "cell_type": "markdown",
   "metadata": {},
   "source": [
    "<div class=\"alert alert-success\">\n",
    " <b>👍 Успех:</b> Хорошая работа, поздравляю с окончанием курса! У тебя получились уверенные работы на финальном спринте, логичные и последовательные, ты умешшь рассуждать, визуализировать данные и делать выводы, это очень хорошие качества для аналитика! Рекомендую еще пройти бесплатный курс от практикума по <a href='https://practicum.yandex.ru/profile/ycloud-datalens/'> DataLens<a>\n",
    " </div>"
   ]
  },
  {
   "cell_type": "code",
   "execution_count": null,
   "metadata": {},
   "outputs": [],
   "source": []
  }
 ],
 "metadata": {
  "ExecuteTimeLog": [
   {
    "duration": 8103,
    "start_time": "2023-03-04T13:17:14.997Z"
   },
   {
    "duration": 3,
    "start_time": "2023-03-04T13:17:23.102Z"
   },
   {
    "duration": 289,
    "start_time": "2023-03-04T13:17:23.107Z"
   },
   {
    "duration": 3,
    "start_time": "2023-03-04T13:17:23.399Z"
   },
   {
    "duration": 60,
    "start_time": "2023-03-04T13:17:23.403Z"
   },
   {
    "duration": 3,
    "start_time": "2023-03-04T13:17:23.465Z"
   },
   {
    "duration": 32,
    "start_time": "2023-03-04T13:17:23.470Z"
   },
   {
    "duration": 32,
    "start_time": "2023-03-04T13:17:23.504Z"
   },
   {
    "duration": 38,
    "start_time": "2023-03-04T13:17:23.537Z"
   },
   {
    "duration": 2,
    "start_time": "2023-03-04T13:17:23.578Z"
   },
   {
    "duration": 19,
    "start_time": "2023-03-04T13:17:23.582Z"
   },
   {
    "duration": 7132,
    "start_time": "2023-03-04T13:18:33.459Z"
   },
   {
    "duration": 6,
    "start_time": "2023-03-04T13:18:40.594Z"
   },
   {
    "duration": 101,
    "start_time": "2023-03-04T13:18:40.602Z"
   },
   {
    "duration": 3,
    "start_time": "2023-03-04T13:18:40.704Z"
   },
   {
    "duration": 23,
    "start_time": "2023-03-04T13:18:40.710Z"
   },
   {
    "duration": 2,
    "start_time": "2023-03-04T13:18:40.739Z"
   },
   {
    "duration": 30,
    "start_time": "2023-03-04T13:18:40.743Z"
   },
   {
    "duration": 3,
    "start_time": "2023-03-04T13:18:40.775Z"
   },
   {
    "duration": 16,
    "start_time": "2023-03-04T13:18:40.780Z"
   },
   {
    "duration": 3,
    "start_time": "2023-03-04T13:18:40.798Z"
   },
   {
    "duration": 14,
    "start_time": "2023-03-04T13:18:40.803Z"
   },
   {
    "duration": 3,
    "start_time": "2023-03-04T13:18:40.818Z"
   },
   {
    "duration": 100,
    "start_time": "2023-03-04T13:18:40.822Z"
   },
   {
    "duration": 0,
    "start_time": "2023-03-04T13:18:40.927Z"
   },
   {
    "duration": 0,
    "start_time": "2023-03-04T13:18:40.928Z"
   },
   {
    "duration": 0,
    "start_time": "2023-03-04T13:18:40.929Z"
   },
   {
    "duration": 3,
    "start_time": "2023-03-04T13:25:30.071Z"
   },
   {
    "duration": 6796,
    "start_time": "2023-03-04T13:25:43.108Z"
   },
   {
    "duration": 3,
    "start_time": "2023-03-04T13:25:49.906Z"
   },
   {
    "duration": 103,
    "start_time": "2023-03-04T13:25:49.911Z"
   },
   {
    "duration": 3,
    "start_time": "2023-03-04T13:25:50.016Z"
   },
   {
    "duration": 41,
    "start_time": "2023-03-04T13:25:50.024Z"
   },
   {
    "duration": 3,
    "start_time": "2023-03-04T13:25:50.067Z"
   },
   {
    "duration": 45,
    "start_time": "2023-03-04T13:25:50.071Z"
   },
   {
    "duration": 8,
    "start_time": "2023-03-04T13:25:50.118Z"
   },
   {
    "duration": 53,
    "start_time": "2023-03-04T13:25:50.132Z"
   },
   {
    "duration": 3,
    "start_time": "2023-03-04T13:25:50.187Z"
   },
   {
    "duration": 82,
    "start_time": "2023-03-04T13:25:50.192Z"
   },
   {
    "duration": 4,
    "start_time": "2023-03-04T13:25:50.276Z"
   },
   {
    "duration": 104,
    "start_time": "2023-03-04T13:25:50.282Z"
   },
   {
    "duration": 1,
    "start_time": "2023-03-04T13:25:50.388Z"
   },
   {
    "duration": 0,
    "start_time": "2023-03-04T13:25:50.390Z"
   },
   {
    "duration": 0,
    "start_time": "2023-03-04T13:25:50.392Z"
   },
   {
    "duration": 0,
    "start_time": "2023-03-04T13:25:50.394Z"
   },
   {
    "duration": 7121,
    "start_time": "2023-03-04T13:26:24.987Z"
   },
   {
    "duration": 4,
    "start_time": "2023-03-04T13:26:32.110Z"
   },
   {
    "duration": 88,
    "start_time": "2023-03-04T13:26:32.116Z"
   },
   {
    "duration": 3,
    "start_time": "2023-03-04T13:26:32.206Z"
   },
   {
    "duration": 67,
    "start_time": "2023-03-04T13:26:32.211Z"
   },
   {
    "duration": 3,
    "start_time": "2023-03-04T13:26:32.280Z"
   },
   {
    "duration": 14,
    "start_time": "2023-03-04T13:26:32.285Z"
   },
   {
    "duration": 2,
    "start_time": "2023-03-04T13:26:32.301Z"
   },
   {
    "duration": 14,
    "start_time": "2023-03-04T13:26:32.305Z"
   },
   {
    "duration": 6,
    "start_time": "2023-03-04T13:26:32.322Z"
   },
   {
    "duration": 43,
    "start_time": "2023-03-04T13:26:32.329Z"
   },
   {
    "duration": 3,
    "start_time": "2023-03-04T13:26:32.374Z"
   },
   {
    "duration": 47,
    "start_time": "2023-03-04T13:26:32.379Z"
   },
   {
    "duration": 3,
    "start_time": "2023-03-04T13:26:32.429Z"
   },
   {
    "duration": 57,
    "start_time": "2023-03-04T13:26:32.434Z"
   },
   {
    "duration": 2,
    "start_time": "2023-03-04T13:26:32.493Z"
   },
   {
    "duration": 189,
    "start_time": "2023-03-04T13:26:32.497Z"
   },
   {
    "duration": 4,
    "start_time": "2023-03-04T13:26:57.651Z"
   },
   {
    "duration": 97,
    "start_time": "2023-03-04T13:26:58.806Z"
   },
   {
    "duration": 2,
    "start_time": "2023-03-04T13:27:50.874Z"
   },
   {
    "duration": 15,
    "start_time": "2023-03-04T13:27:52.269Z"
   },
   {
    "duration": 4,
    "start_time": "2023-03-04T13:34:08.478Z"
   },
   {
    "duration": 79,
    "start_time": "2023-03-04T13:34:09.765Z"
   },
   {
    "duration": 3,
    "start_time": "2023-03-04T13:34:58.078Z"
   },
   {
    "duration": 107,
    "start_time": "2023-03-04T13:34:58.806Z"
   },
   {
    "duration": 3,
    "start_time": "2023-03-04T13:35:25.800Z"
   },
   {
    "duration": 103,
    "start_time": "2023-03-04T13:35:26.310Z"
   },
   {
    "duration": 4,
    "start_time": "2023-03-04T13:36:11.349Z"
   },
   {
    "duration": 106,
    "start_time": "2023-03-04T13:36:11.986Z"
   },
   {
    "duration": 3,
    "start_time": "2023-03-04T13:36:32.808Z"
   },
   {
    "duration": 15,
    "start_time": "2023-03-04T13:36:34.052Z"
   },
   {
    "duration": 3,
    "start_time": "2023-03-04T13:37:48.214Z"
   },
   {
    "duration": 87,
    "start_time": "2023-03-04T13:37:48.940Z"
   },
   {
    "duration": 9,
    "start_time": "2023-03-04T13:38:11.137Z"
   },
   {
    "duration": 28,
    "start_time": "2023-03-04T13:38:23.340Z"
   },
   {
    "duration": 3,
    "start_time": "2023-03-04T13:40:48.951Z"
   },
   {
    "duration": 19,
    "start_time": "2023-03-04T13:40:50.560Z"
   },
   {
    "duration": 3,
    "start_time": "2023-03-04T13:40:57.886Z"
   },
   {
    "duration": 17,
    "start_time": "2023-03-04T13:41:01.648Z"
   },
   {
    "duration": 3,
    "start_time": "2023-03-04T13:41:13.052Z"
   },
   {
    "duration": 29,
    "start_time": "2023-03-04T13:41:18.140Z"
   },
   {
    "duration": 2,
    "start_time": "2023-03-04T13:51:03.600Z"
   },
   {
    "duration": 18,
    "start_time": "2023-03-04T13:51:05.071Z"
   },
   {
    "duration": 7,
    "start_time": "2023-03-04T13:54:25.538Z"
   },
   {
    "duration": 21,
    "start_time": "2023-03-04T13:54:28.155Z"
   },
   {
    "duration": 7385,
    "start_time": "2023-03-04T13:56:49.256Z"
   },
   {
    "duration": 5,
    "start_time": "2023-03-04T13:56:56.644Z"
   },
   {
    "duration": 72,
    "start_time": "2023-03-04T13:56:56.655Z"
   },
   {
    "duration": 6,
    "start_time": "2023-03-04T13:56:56.733Z"
   },
   {
    "duration": 46,
    "start_time": "2023-03-04T13:56:56.746Z"
   },
   {
    "duration": 3,
    "start_time": "2023-03-04T13:56:56.794Z"
   },
   {
    "duration": 24,
    "start_time": "2023-03-04T13:56:56.798Z"
   },
   {
    "duration": 3,
    "start_time": "2023-03-04T13:56:56.830Z"
   },
   {
    "duration": 45,
    "start_time": "2023-03-04T13:56:56.846Z"
   },
   {
    "duration": 4,
    "start_time": "2023-03-04T13:56:56.893Z"
   },
   {
    "duration": 17,
    "start_time": "2023-03-04T13:56:56.899Z"
   },
   {
    "duration": 3,
    "start_time": "2023-03-04T13:56:56.918Z"
   },
   {
    "duration": 53,
    "start_time": "2023-03-04T13:56:56.924Z"
   },
   {
    "duration": 4,
    "start_time": "2023-03-04T13:56:56.980Z"
   },
   {
    "duration": 48,
    "start_time": "2023-03-04T13:56:56.987Z"
   },
   {
    "duration": 9,
    "start_time": "2023-03-04T13:56:57.039Z"
   },
   {
    "duration": 31,
    "start_time": "2023-03-04T13:56:57.050Z"
   },
   {
    "duration": 2,
    "start_time": "2023-03-04T13:56:57.083Z"
   },
   {
    "duration": 18,
    "start_time": "2023-03-04T13:56:57.087Z"
   },
   {
    "duration": 11,
    "start_time": "2023-03-04T13:58:30.853Z"
   },
   {
    "duration": 28,
    "start_time": "2023-03-04T13:58:32.548Z"
   },
   {
    "duration": 3,
    "start_time": "2023-03-04T14:04:01.264Z"
   },
   {
    "duration": 3,
    "start_time": "2023-03-04T14:04:50.020Z"
   },
   {
    "duration": 176,
    "start_time": "2023-03-04T14:04:51.260Z"
   },
   {
    "duration": 2,
    "start_time": "2023-03-04T14:06:07.304Z"
   },
   {
    "duration": 20,
    "start_time": "2023-03-04T14:06:07.990Z"
   },
   {
    "duration": 3,
    "start_time": "2023-03-04T14:07:09.476Z"
   },
   {
    "duration": 89,
    "start_time": "2023-03-04T14:07:10.061Z"
   },
   {
    "duration": 3,
    "start_time": "2023-03-04T14:08:41.162Z"
   },
   {
    "duration": 90,
    "start_time": "2023-03-04T14:08:41.876Z"
   },
   {
    "duration": 3,
    "start_time": "2023-03-04T14:11:44.705Z"
   },
   {
    "duration": 69,
    "start_time": "2023-03-04T14:11:45.449Z"
   },
   {
    "duration": 3,
    "start_time": "2023-03-04T14:13:00.567Z"
   },
   {
    "duration": 95,
    "start_time": "2023-03-04T14:13:01.458Z"
   },
   {
    "duration": 3,
    "start_time": "2023-03-04T14:19:17.203Z"
   },
   {
    "duration": 109,
    "start_time": "2023-03-04T14:19:18.194Z"
   },
   {
    "duration": 6,
    "start_time": "2023-03-04T14:20:14.347Z"
   },
   {
    "duration": 97,
    "start_time": "2023-03-04T14:20:15.016Z"
   },
   {
    "duration": 9,
    "start_time": "2023-03-04T14:20:48.835Z"
   },
   {
    "duration": 102,
    "start_time": "2023-03-04T14:20:49.614Z"
   },
   {
    "duration": 10,
    "start_time": "2023-03-04T14:22:22.556Z"
   },
   {
    "duration": 121,
    "start_time": "2023-03-04T14:22:23.179Z"
   },
   {
    "duration": 3,
    "start_time": "2023-03-04T14:23:26.214Z"
   },
   {
    "duration": 92,
    "start_time": "2023-03-04T14:23:26.795Z"
   },
   {
    "duration": 3,
    "start_time": "2023-03-04T14:24:31.284Z"
   },
   {
    "duration": 19,
    "start_time": "2023-03-04T14:24:31.787Z"
   },
   {
    "duration": 3,
    "start_time": "2023-03-04T14:26:42.002Z"
   },
   {
    "duration": 85,
    "start_time": "2023-03-04T14:26:43.197Z"
   },
   {
    "duration": 8,
    "start_time": "2023-03-04T14:27:12.038Z"
   },
   {
    "duration": 72,
    "start_time": "2023-03-04T14:27:12.839Z"
   },
   {
    "duration": 4,
    "start_time": "2023-03-04T14:27:43.903Z"
   },
   {
    "duration": 27,
    "start_time": "2023-03-04T14:27:44.613Z"
   },
   {
    "duration": 2,
    "start_time": "2023-03-04T14:29:39.979Z"
   },
   {
    "duration": 91,
    "start_time": "2023-03-04T14:29:40.797Z"
   },
   {
    "duration": 3,
    "start_time": "2023-03-04T14:29:56.181Z"
   },
   {
    "duration": 67,
    "start_time": "2023-03-04T14:29:56.750Z"
   },
   {
    "duration": 3,
    "start_time": "2023-03-04T14:30:42.557Z"
   },
   {
    "duration": 27,
    "start_time": "2023-03-04T14:30:43.243Z"
   },
   {
    "duration": 5,
    "start_time": "2023-03-04T14:31:44.525Z"
   },
   {
    "duration": 84,
    "start_time": "2023-03-04T14:31:45.178Z"
   },
   {
    "duration": 4,
    "start_time": "2023-03-04T14:33:34.525Z"
   },
   {
    "duration": 20,
    "start_time": "2023-03-04T14:33:35.462Z"
   },
   {
    "duration": 4,
    "start_time": "2023-03-04T14:34:13.765Z"
   },
   {
    "duration": 23,
    "start_time": "2023-03-04T14:34:15.794Z"
   },
   {
    "duration": 5,
    "start_time": "2023-03-04T14:34:27.149Z"
   },
   {
    "duration": 20,
    "start_time": "2023-03-04T14:34:27.662Z"
   },
   {
    "duration": 3,
    "start_time": "2023-03-04T14:36:13.266Z"
   },
   {
    "duration": 74,
    "start_time": "2023-03-04T14:36:14.766Z"
   },
   {
    "duration": 3,
    "start_time": "2023-03-04T14:36:22.710Z"
   },
   {
    "duration": 16,
    "start_time": "2023-03-04T14:36:23.251Z"
   },
   {
    "duration": 4,
    "start_time": "2023-03-04T14:36:57.265Z"
   },
   {
    "duration": 104,
    "start_time": "2023-03-04T14:36:57.871Z"
   },
   {
    "duration": 3,
    "start_time": "2023-03-04T14:37:10.800Z"
   },
   {
    "duration": 31,
    "start_time": "2023-03-04T14:37:11.313Z"
   },
   {
    "duration": 3,
    "start_time": "2023-03-04T14:42:35.081Z"
   },
   {
    "duration": 21,
    "start_time": "2023-03-04T14:42:35.665Z"
   },
   {
    "duration": 3,
    "start_time": "2023-03-04T14:46:55.487Z"
   },
   {
    "duration": 111,
    "start_time": "2023-03-04T14:46:56.125Z"
   },
   {
    "duration": 3,
    "start_time": "2023-03-04T14:47:16.183Z"
   },
   {
    "duration": 83,
    "start_time": "2023-03-04T14:47:16.963Z"
   },
   {
    "duration": 4,
    "start_time": "2023-03-04T14:47:50.373Z"
   },
   {
    "duration": 18,
    "start_time": "2023-03-04T14:47:50.878Z"
   },
   {
    "duration": 4,
    "start_time": "2023-03-04T14:55:02.157Z"
   },
   {
    "duration": 17,
    "start_time": "2023-03-04T14:55:02.663Z"
   },
   {
    "duration": 3,
    "start_time": "2023-03-04T14:56:10.691Z"
   },
   {
    "duration": 22,
    "start_time": "2023-03-04T14:56:11.251Z"
   },
   {
    "duration": 3,
    "start_time": "2023-03-04T14:57:34.314Z"
   },
   {
    "duration": 24,
    "start_time": "2023-03-04T14:57:35.645Z"
   },
   {
    "duration": 3,
    "start_time": "2023-03-04T15:03:51.976Z"
   },
   {
    "duration": 84,
    "start_time": "2023-03-04T15:03:52.512Z"
   },
   {
    "duration": 4,
    "start_time": "2023-03-04T15:03:59.287Z"
   },
   {
    "duration": 29,
    "start_time": "2023-03-04T15:03:59.720Z"
   },
   {
    "duration": 3,
    "start_time": "2023-03-04T15:07:49.736Z"
   },
   {
    "duration": 83,
    "start_time": "2023-03-04T15:07:50.505Z"
   },
   {
    "duration": 4,
    "start_time": "2023-03-04T15:08:06.785Z"
   },
   {
    "duration": 22,
    "start_time": "2023-03-04T15:08:07.395Z"
   },
   {
    "duration": 3,
    "start_time": "2023-03-04T15:08:33.513Z"
   },
   {
    "duration": 72,
    "start_time": "2023-03-04T15:08:34.130Z"
   },
   {
    "duration": 3,
    "start_time": "2023-03-04T15:08:40.082Z"
   },
   {
    "duration": 18,
    "start_time": "2023-03-04T15:08:40.591Z"
   },
   {
    "duration": 3,
    "start_time": "2023-03-04T15:09:14.359Z"
   },
   {
    "duration": 30,
    "start_time": "2023-03-04T15:09:15.014Z"
   },
   {
    "duration": 3,
    "start_time": "2023-03-04T15:10:11.469Z"
   },
   {
    "duration": 18,
    "start_time": "2023-03-04T15:10:15.202Z"
   },
   {
    "duration": 3,
    "start_time": "2023-03-04T15:13:01.177Z"
   },
   {
    "duration": 25,
    "start_time": "2023-03-04T15:13:01.929Z"
   },
   {
    "duration": 3,
    "start_time": "2023-03-04T15:15:13.989Z"
   },
   {
    "duration": 75,
    "start_time": "2023-03-04T15:15:16.136Z"
   },
   {
    "duration": 3,
    "start_time": "2023-03-04T15:15:32.956Z"
   },
   {
    "duration": 77,
    "start_time": "2023-03-04T15:15:33.461Z"
   },
   {
    "duration": 4,
    "start_time": "2023-03-04T15:16:41.314Z"
   },
   {
    "duration": 87,
    "start_time": "2023-03-04T15:16:41.850Z"
   },
   {
    "duration": 3,
    "start_time": "2023-03-04T15:17:48.665Z"
   },
   {
    "duration": 80,
    "start_time": "2023-03-04T15:17:49.372Z"
   },
   {
    "duration": 3,
    "start_time": "2023-03-04T15:19:52.711Z"
   },
   {
    "duration": 18,
    "start_time": "2023-03-04T15:19:53.389Z"
   },
   {
    "duration": 3,
    "start_time": "2023-03-04T15:20:43.223Z"
   },
   {
    "duration": 18,
    "start_time": "2023-03-04T15:20:43.856Z"
   },
   {
    "duration": 3,
    "start_time": "2023-03-04T15:21:19.361Z"
   },
   {
    "duration": 21,
    "start_time": "2023-03-04T15:21:19.855Z"
   },
   {
    "duration": 3,
    "start_time": "2023-03-04T15:24:58.339Z"
   },
   {
    "duration": 67,
    "start_time": "2023-03-04T15:24:58.996Z"
   },
   {
    "duration": 3,
    "start_time": "2023-03-04T15:27:21.896Z"
   },
   {
    "duration": 18,
    "start_time": "2023-03-04T15:27:23.666Z"
   },
   {
    "duration": 3,
    "start_time": "2023-03-04T15:28:07.500Z"
   },
   {
    "duration": 61,
    "start_time": "2023-03-04T15:28:08.147Z"
   },
   {
    "duration": 3,
    "start_time": "2023-03-04T15:30:17.167Z"
   },
   {
    "duration": 68,
    "start_time": "2023-03-04T15:30:17.756Z"
   },
   {
    "duration": 2,
    "start_time": "2023-03-04T15:30:28.869Z"
   },
   {
    "duration": 14,
    "start_time": "2023-03-04T15:30:29.406Z"
   },
   {
    "duration": 4799,
    "start_time": "2023-03-04T15:30:43.670Z"
   },
   {
    "duration": 3,
    "start_time": "2023-03-04T15:30:48.473Z"
   },
   {
    "duration": 53,
    "start_time": "2023-03-04T15:30:48.478Z"
   },
   {
    "duration": 3,
    "start_time": "2023-03-04T15:30:48.533Z"
   },
   {
    "duration": 18,
    "start_time": "2023-03-04T15:30:48.537Z"
   },
   {
    "duration": 2,
    "start_time": "2023-03-04T15:30:48.557Z"
   },
   {
    "duration": 12,
    "start_time": "2023-03-04T15:30:48.561Z"
   },
   {
    "duration": 3,
    "start_time": "2023-03-04T15:30:48.575Z"
   },
   {
    "duration": 17,
    "start_time": "2023-03-04T15:30:48.582Z"
   },
   {
    "duration": 2,
    "start_time": "2023-03-04T15:30:48.601Z"
   },
   {
    "duration": 18,
    "start_time": "2023-03-04T15:30:48.621Z"
   },
   {
    "duration": 3,
    "start_time": "2023-03-04T15:30:48.641Z"
   },
   {
    "duration": 14,
    "start_time": "2023-03-04T15:30:48.646Z"
   },
   {
    "duration": 3,
    "start_time": "2023-03-04T15:30:48.661Z"
   },
   {
    "duration": 37,
    "start_time": "2023-03-04T15:30:48.666Z"
   },
   {
    "duration": 3,
    "start_time": "2023-03-04T15:30:48.705Z"
   },
   {
    "duration": 11,
    "start_time": "2023-03-04T15:30:48.721Z"
   },
   {
    "duration": 3,
    "start_time": "2023-03-04T15:30:48.734Z"
   },
   {
    "duration": 20,
    "start_time": "2023-03-04T15:30:48.739Z"
   },
   {
    "duration": 3,
    "start_time": "2023-03-04T16:42:53.584Z"
   },
   {
    "duration": 137,
    "start_time": "2023-03-04T16:42:54.281Z"
   },
   {
    "duration": 2,
    "start_time": "2023-03-04T16:43:06.232Z"
   },
   {
    "duration": 20,
    "start_time": "2023-03-04T16:43:07.800Z"
   },
   {
    "duration": 3,
    "start_time": "2023-03-04T16:44:04.271Z"
   },
   {
    "duration": 25,
    "start_time": "2023-03-04T16:44:04.730Z"
   },
   {
    "duration": 3,
    "start_time": "2023-03-04T16:52:45.358Z"
   },
   {
    "duration": 18,
    "start_time": "2023-03-04T16:52:46.022Z"
   },
   {
    "duration": 3,
    "start_time": "2023-03-04T17:07:13.383Z"
   },
   {
    "duration": 3,
    "start_time": "2023-03-04T17:07:20.968Z"
   },
   {
    "duration": 97,
    "start_time": "2023-03-04T17:07:21.484Z"
   },
   {
    "duration": 3,
    "start_time": "2023-03-04T17:08:00.481Z"
   },
   {
    "duration": 15,
    "start_time": "2023-03-04T17:08:01.405Z"
   },
   {
    "duration": 2,
    "start_time": "2023-03-04T17:12:26.860Z"
   },
   {
    "duration": 34,
    "start_time": "2023-03-04T17:12:29.888Z"
   },
   {
    "duration": 4,
    "start_time": "2023-03-04T17:13:00.378Z"
   },
   {
    "duration": 36,
    "start_time": "2023-03-04T17:13:00.818Z"
   },
   {
    "duration": 2,
    "start_time": "2023-03-04T17:16:06.227Z"
   },
   {
    "duration": 74,
    "start_time": "2023-03-04T17:16:07.220Z"
   },
   {
    "duration": 2,
    "start_time": "2023-03-04T17:16:56.396Z"
   },
   {
    "duration": 65,
    "start_time": "2023-03-04T17:16:56.930Z"
   },
   {
    "duration": 3,
    "start_time": "2023-03-04T17:18:38.724Z"
   },
   {
    "duration": 34,
    "start_time": "2023-03-04T17:18:40.122Z"
   },
   {
    "duration": 4,
    "start_time": "2023-03-04T17:20:43.969Z"
   },
   {
    "duration": 66,
    "start_time": "2023-03-04T17:20:45.362Z"
   },
   {
    "duration": 3,
    "start_time": "2023-03-04T17:22:07.005Z"
   },
   {
    "duration": 71,
    "start_time": "2023-03-04T17:22:07.601Z"
   },
   {
    "duration": 4,
    "start_time": "2023-03-04T17:22:53.103Z"
   },
   {
    "duration": 78,
    "start_time": "2023-03-04T17:22:53.637Z"
   },
   {
    "duration": 3,
    "start_time": "2023-03-04T17:23:19.699Z"
   },
   {
    "duration": 36,
    "start_time": "2023-03-04T17:23:20.268Z"
   },
   {
    "duration": 2,
    "start_time": "2023-03-04T17:23:44.273Z"
   },
   {
    "duration": 66,
    "start_time": "2023-03-04T17:23:44.910Z"
   },
   {
    "duration": 3,
    "start_time": "2023-03-04T17:24:01.867Z"
   },
   {
    "duration": 39,
    "start_time": "2023-03-04T17:24:02.498Z"
   },
   {
    "duration": 3,
    "start_time": "2023-03-04T17:26:25.629Z"
   },
   {
    "duration": 34,
    "start_time": "2023-03-04T17:26:26.185Z"
   },
   {
    "duration": 3,
    "start_time": "2023-03-04T17:26:58.470Z"
   },
   {
    "duration": 36,
    "start_time": "2023-03-04T17:26:58.907Z"
   },
   {
    "duration": 3,
    "start_time": "2023-03-04T17:27:41.112Z"
   },
   {
    "duration": 2,
    "start_time": "2023-03-04T17:28:35.222Z"
   },
   {
    "duration": 35,
    "start_time": "2023-03-04T17:28:36.070Z"
   },
   {
    "duration": 3,
    "start_time": "2023-03-04T17:31:34.837Z"
   },
   {
    "duration": 60,
    "start_time": "2023-03-04T17:31:36.331Z"
   },
   {
    "duration": 3,
    "start_time": "2023-03-04T17:32:16.030Z"
   },
   {
    "duration": 37,
    "start_time": "2023-03-04T17:32:16.507Z"
   },
   {
    "duration": 3,
    "start_time": "2023-03-04T17:32:56.969Z"
   },
   {
    "duration": 41,
    "start_time": "2023-03-04T17:32:59.977Z"
   },
   {
    "duration": 3,
    "start_time": "2023-03-04T17:35:23.995Z"
   },
   {
    "duration": 34,
    "start_time": "2023-03-04T17:35:24.558Z"
   },
   {
    "duration": 3,
    "start_time": "2023-03-04T17:37:39.838Z"
   },
   {
    "duration": 36,
    "start_time": "2023-03-04T17:37:42.209Z"
   },
   {
    "duration": 3,
    "start_time": "2023-03-04T17:38:35.018Z"
   },
   {
    "duration": 35,
    "start_time": "2023-03-04T17:38:36.058Z"
   },
   {
    "duration": 57,
    "start_time": "2023-03-04T17:41:18.504Z"
   },
   {
    "duration": 47,
    "start_time": "2023-03-04T17:42:17.522Z"
   },
   {
    "duration": 48,
    "start_time": "2023-03-04T17:43:04.563Z"
   },
   {
    "duration": 43,
    "start_time": "2023-03-04T17:43:55.468Z"
   },
   {
    "duration": 33,
    "start_time": "2023-03-04T17:44:06.578Z"
   },
   {
    "duration": 4849,
    "start_time": "2023-03-04T17:44:15.113Z"
   },
   {
    "duration": 2,
    "start_time": "2023-03-04T17:44:19.966Z"
   },
   {
    "duration": 57,
    "start_time": "2023-03-04T17:44:19.970Z"
   },
   {
    "duration": 3,
    "start_time": "2023-03-04T17:44:20.029Z"
   },
   {
    "duration": 13,
    "start_time": "2023-03-04T17:44:20.034Z"
   },
   {
    "duration": 3,
    "start_time": "2023-03-04T17:44:20.048Z"
   },
   {
    "duration": 17,
    "start_time": "2023-03-04T17:44:20.052Z"
   },
   {
    "duration": 6,
    "start_time": "2023-03-04T17:44:20.070Z"
   },
   {
    "duration": 20,
    "start_time": "2023-03-04T17:44:20.077Z"
   },
   {
    "duration": 3,
    "start_time": "2023-03-04T17:44:20.100Z"
   },
   {
    "duration": 28,
    "start_time": "2023-03-04T17:44:20.104Z"
   },
   {
    "duration": 3,
    "start_time": "2023-03-04T17:44:20.134Z"
   },
   {
    "duration": 28,
    "start_time": "2023-03-04T17:44:20.140Z"
   },
   {
    "duration": 16,
    "start_time": "2023-03-04T17:44:20.170Z"
   },
   {
    "duration": 46,
    "start_time": "2023-03-04T17:44:20.188Z"
   },
   {
    "duration": 2,
    "start_time": "2023-03-04T17:44:20.236Z"
   },
   {
    "duration": 13,
    "start_time": "2023-03-04T17:44:20.240Z"
   },
   {
    "duration": 2,
    "start_time": "2023-03-04T17:44:20.256Z"
   },
   {
    "duration": 22,
    "start_time": "2023-03-04T17:44:20.260Z"
   },
   {
    "duration": 46,
    "start_time": "2023-03-04T17:44:20.284Z"
   },
   {
    "duration": 0,
    "start_time": "2023-03-04T17:44:20.331Z"
   },
   {
    "duration": 0,
    "start_time": "2023-03-04T17:44:20.333Z"
   },
   {
    "duration": 0,
    "start_time": "2023-03-04T17:44:20.334Z"
   },
   {
    "duration": 0,
    "start_time": "2023-03-04T17:44:20.335Z"
   },
   {
    "duration": 4872,
    "start_time": "2023-03-04T17:44:41.877Z"
   },
   {
    "duration": 3,
    "start_time": "2023-03-04T17:44:46.751Z"
   },
   {
    "duration": 56,
    "start_time": "2023-03-04T17:44:46.755Z"
   },
   {
    "duration": 3,
    "start_time": "2023-03-04T17:44:46.812Z"
   },
   {
    "duration": 11,
    "start_time": "2023-03-04T17:44:46.818Z"
   },
   {
    "duration": 3,
    "start_time": "2023-03-04T17:44:46.830Z"
   },
   {
    "duration": 12,
    "start_time": "2023-03-04T17:44:46.834Z"
   },
   {
    "duration": 3,
    "start_time": "2023-03-04T17:44:46.847Z"
   },
   {
    "duration": 12,
    "start_time": "2023-03-04T17:44:46.852Z"
   },
   {
    "duration": 2,
    "start_time": "2023-03-04T17:44:46.866Z"
   },
   {
    "duration": 12,
    "start_time": "2023-03-04T17:44:46.870Z"
   },
   {
    "duration": 3,
    "start_time": "2023-03-04T17:44:46.883Z"
   },
   {
    "duration": 40,
    "start_time": "2023-03-04T17:44:46.888Z"
   },
   {
    "duration": 2,
    "start_time": "2023-03-04T17:44:46.932Z"
   },
   {
    "duration": 33,
    "start_time": "2023-03-04T17:44:46.936Z"
   },
   {
    "duration": 2,
    "start_time": "2023-03-04T17:44:46.971Z"
   },
   {
    "duration": 13,
    "start_time": "2023-03-04T17:44:46.974Z"
   },
   {
    "duration": 9,
    "start_time": "2023-03-04T17:44:46.988Z"
   },
   {
    "duration": 20,
    "start_time": "2023-03-04T17:44:46.998Z"
   },
   {
    "duration": 3,
    "start_time": "2023-03-04T17:44:47.019Z"
   },
   {
    "duration": 37,
    "start_time": "2023-03-04T17:44:47.023Z"
   },
   {
    "duration": 45,
    "start_time": "2023-03-04T17:44:47.062Z"
   },
   {
    "duration": 0,
    "start_time": "2023-03-04T17:44:47.108Z"
   },
   {
    "duration": 41,
    "start_time": "2023-03-04T17:45:06.118Z"
   },
   {
    "duration": 44,
    "start_time": "2023-03-04T17:45:31.380Z"
   },
   {
    "duration": 2,
    "start_time": "2023-03-04T17:46:26.868Z"
   },
   {
    "duration": 41,
    "start_time": "2023-03-04T17:46:28.287Z"
   },
   {
    "duration": 3,
    "start_time": "2023-03-04T17:46:48.122Z"
   },
   {
    "duration": 551,
    "start_time": "2023-03-04T17:46:48.721Z"
   },
   {
    "duration": 3,
    "start_time": "2023-03-04T17:53:30.064Z"
   },
   {
    "duration": 32,
    "start_time": "2023-03-04T17:53:33.390Z"
   },
   {
    "duration": 2,
    "start_time": "2023-03-04T17:55:06.522Z"
   },
   {
    "duration": 167,
    "start_time": "2023-03-04T17:55:07.079Z"
   },
   {
    "duration": 3,
    "start_time": "2023-03-04T17:55:52.069Z"
   },
   {
    "duration": 18,
    "start_time": "2023-03-04T17:55:52.984Z"
   },
   {
    "duration": 3,
    "start_time": "2023-03-04T17:57:28.024Z"
   },
   {
    "duration": 127,
    "start_time": "2023-03-04T17:57:28.582Z"
   },
   {
    "duration": 3,
    "start_time": "2023-03-04T17:58:39.635Z"
   },
   {
    "duration": 15,
    "start_time": "2023-03-04T17:58:40.161Z"
   },
   {
    "duration": 3,
    "start_time": "2023-03-04T18:00:09.752Z"
   },
   {
    "duration": 16,
    "start_time": "2023-03-04T18:00:11.661Z"
   },
   {
    "duration": 3,
    "start_time": "2023-03-04T18:00:40.583Z"
   },
   {
    "duration": 74,
    "start_time": "2023-03-04T18:00:41.366Z"
   },
   {
    "duration": 4,
    "start_time": "2023-03-04T18:00:50.369Z"
   },
   {
    "duration": 36,
    "start_time": "2023-03-04T18:00:50.880Z"
   },
   {
    "duration": 3,
    "start_time": "2023-03-04T18:02:11.262Z"
   },
   {
    "duration": 66,
    "start_time": "2023-03-04T18:02:12.574Z"
   },
   {
    "duration": 3,
    "start_time": "2023-03-04T18:02:34.644Z"
   },
   {
    "duration": 68,
    "start_time": "2023-03-04T18:02:35.234Z"
   },
   {
    "duration": 3,
    "start_time": "2023-03-04T18:03:12.717Z"
   },
   {
    "duration": 35,
    "start_time": "2023-03-04T18:03:13.374Z"
   },
   {
    "duration": 2,
    "start_time": "2023-03-04T18:07:41.433Z"
   },
   {
    "duration": 67,
    "start_time": "2023-03-04T18:07:42.163Z"
   },
   {
    "duration": 4,
    "start_time": "2023-03-04T18:08:23.062Z"
   },
   {
    "duration": 34,
    "start_time": "2023-03-04T18:08:23.664Z"
   },
   {
    "duration": 3,
    "start_time": "2023-03-04T18:08:49.675Z"
   },
   {
    "duration": 47,
    "start_time": "2023-03-04T18:08:50.162Z"
   },
   {
    "duration": 2,
    "start_time": "2023-03-04T18:10:24.664Z"
   },
   {
    "duration": 38,
    "start_time": "2023-03-04T18:10:25.282Z"
   },
   {
    "duration": 3,
    "start_time": "2023-03-04T18:12:05.084Z"
   },
   {
    "duration": 62,
    "start_time": "2023-03-04T18:12:06.402Z"
   },
   {
    "duration": 3,
    "start_time": "2023-03-04T18:12:53.806Z"
   },
   {
    "duration": 81,
    "start_time": "2023-03-04T18:12:54.590Z"
   },
   {
    "duration": 3,
    "start_time": "2023-03-04T18:13:31.657Z"
   },
   {
    "duration": 86,
    "start_time": "2023-03-04T18:13:32.332Z"
   },
   {
    "duration": 2,
    "start_time": "2023-03-04T18:14:24.227Z"
   },
   {
    "duration": 35,
    "start_time": "2023-03-04T18:14:24.785Z"
   },
   {
    "duration": 4990,
    "start_time": "2023-03-04T18:14:54.257Z"
   },
   {
    "duration": 3,
    "start_time": "2023-03-04T18:14:59.249Z"
   },
   {
    "duration": 48,
    "start_time": "2023-03-04T18:14:59.253Z"
   },
   {
    "duration": 3,
    "start_time": "2023-03-04T18:14:59.302Z"
   },
   {
    "duration": 11,
    "start_time": "2023-03-04T18:14:59.307Z"
   },
   {
    "duration": 3,
    "start_time": "2023-03-04T18:14:59.319Z"
   },
   {
    "duration": 15,
    "start_time": "2023-03-04T18:14:59.323Z"
   },
   {
    "duration": 2,
    "start_time": "2023-03-04T18:14:59.340Z"
   },
   {
    "duration": 12,
    "start_time": "2023-03-04T18:14:59.344Z"
   },
   {
    "duration": 2,
    "start_time": "2023-03-04T18:14:59.358Z"
   },
   {
    "duration": 19,
    "start_time": "2023-03-04T18:14:59.361Z"
   },
   {
    "duration": 2,
    "start_time": "2023-03-04T18:14:59.381Z"
   },
   {
    "duration": 11,
    "start_time": "2023-03-04T18:14:59.385Z"
   },
   {
    "duration": 24,
    "start_time": "2023-03-04T18:14:59.398Z"
   },
   {
    "duration": 37,
    "start_time": "2023-03-04T18:14:59.423Z"
   },
   {
    "duration": 2,
    "start_time": "2023-03-04T18:14:59.462Z"
   },
   {
    "duration": 12,
    "start_time": "2023-03-04T18:14:59.465Z"
   },
   {
    "duration": 3,
    "start_time": "2023-03-04T18:14:59.478Z"
   },
   {
    "duration": 21,
    "start_time": "2023-03-04T18:14:59.483Z"
   },
   {
    "duration": 3,
    "start_time": "2023-03-04T18:14:59.506Z"
   },
   {
    "duration": 38,
    "start_time": "2023-03-04T18:14:59.511Z"
   },
   {
    "duration": 68,
    "start_time": "2023-03-04T18:16:03.464Z"
   },
   {
    "duration": 13,
    "start_time": "2023-03-04T18:16:41.971Z"
   },
   {
    "duration": 3,
    "start_time": "2023-03-04T18:19:38.841Z"
   },
   {
    "duration": 82,
    "start_time": "2023-03-04T18:19:39.702Z"
   },
   {
    "duration": 3,
    "start_time": "2023-03-04T18:22:24.099Z"
   },
   {
    "duration": 62,
    "start_time": "2023-03-04T18:22:25.027Z"
   },
   {
    "duration": 3,
    "start_time": "2023-03-04T18:26:03.262Z"
   },
   {
    "duration": 16,
    "start_time": "2023-03-04T18:26:04.268Z"
   },
   {
    "duration": 3,
    "start_time": "2023-03-04T18:28:23.624Z"
   },
   {
    "duration": 13,
    "start_time": "2023-03-04T18:28:24.190Z"
   },
   {
    "duration": 2,
    "start_time": "2023-03-04T18:31:15.585Z"
   },
   {
    "duration": 72,
    "start_time": "2023-03-04T18:31:16.729Z"
   },
   {
    "duration": 3,
    "start_time": "2023-03-04T18:32:34.006Z"
   },
   {
    "duration": 71,
    "start_time": "2023-03-04T18:32:35.338Z"
   },
   {
    "duration": 3,
    "start_time": "2023-03-04T18:33:46.943Z"
   },
   {
    "duration": 69,
    "start_time": "2023-03-04T18:33:47.489Z"
   },
   {
    "duration": 3,
    "start_time": "2023-03-04T18:34:20.823Z"
   },
   {
    "duration": 16,
    "start_time": "2023-03-04T18:34:21.122Z"
   },
   {
    "duration": 3,
    "start_time": "2023-03-04T18:35:39.161Z"
   },
   {
    "duration": 69,
    "start_time": "2023-03-04T18:35:39.721Z"
   },
   {
    "duration": 3,
    "start_time": "2023-03-04T18:36:14.966Z"
   },
   {
    "duration": 69,
    "start_time": "2023-03-04T18:36:15.974Z"
   },
   {
    "duration": 3,
    "start_time": "2023-03-04T18:38:35.169Z"
   },
   {
    "duration": 18,
    "start_time": "2023-03-04T18:38:35.642Z"
   },
   {
    "duration": 3,
    "start_time": "2023-03-04T18:51:52.895Z"
   },
   {
    "duration": 16,
    "start_time": "2023-03-04T18:51:53.465Z"
   },
   {
    "duration": 4,
    "start_time": "2023-03-04T18:53:52.379Z"
   },
   {
    "duration": 14,
    "start_time": "2023-03-04T18:53:53.163Z"
   },
   {
    "duration": 3,
    "start_time": "2023-03-04T18:54:28.576Z"
   },
   {
    "duration": 68,
    "start_time": "2023-03-04T18:54:29.163Z"
   },
   {
    "duration": 3,
    "start_time": "2023-03-04T18:54:40.176Z"
   },
   {
    "duration": 71,
    "start_time": "2023-03-04T18:54:40.769Z"
   },
   {
    "duration": 3,
    "start_time": "2023-03-04T18:54:54.082Z"
   },
   {
    "duration": 62,
    "start_time": "2023-03-04T18:54:54.656Z"
   },
   {
    "duration": 3,
    "start_time": "2023-03-04T18:55:18.226Z"
   },
   {
    "duration": 82,
    "start_time": "2023-03-04T18:55:18.815Z"
   },
   {
    "duration": 3,
    "start_time": "2023-03-04T18:55:48.486Z"
   },
   {
    "duration": 14,
    "start_time": "2023-03-04T18:55:49.323Z"
   },
   {
    "duration": 13,
    "start_time": "2023-03-04T18:56:21.258Z"
   },
   {
    "duration": 4998,
    "start_time": "2023-03-04T18:58:22.337Z"
   },
   {
    "duration": 87,
    "start_time": "2023-03-04T18:58:27.337Z"
   },
   {
    "duration": 10,
    "start_time": "2023-03-04T18:58:27.426Z"
   },
   {
    "duration": 16,
    "start_time": "2023-03-04T18:58:27.438Z"
   },
   {
    "duration": 11,
    "start_time": "2023-03-04T18:58:27.455Z"
   },
   {
    "duration": 31,
    "start_time": "2023-03-04T18:58:27.468Z"
   },
   {
    "duration": 25,
    "start_time": "2023-03-04T18:58:27.501Z"
   },
   {
    "duration": 34,
    "start_time": "2023-03-04T18:58:27.527Z"
   },
   {
    "duration": 10,
    "start_time": "2023-03-04T18:58:27.562Z"
   },
   {
    "duration": 18,
    "start_time": "2023-03-04T18:58:27.574Z"
   },
   {
    "duration": 13,
    "start_time": "2023-03-04T18:58:27.594Z"
   },
   {
    "duration": 5348,
    "start_time": "2023-03-04T19:01:13.955Z"
   },
   {
    "duration": 88,
    "start_time": "2023-03-04T19:01:19.305Z"
   },
   {
    "duration": 11,
    "start_time": "2023-03-04T19:01:19.395Z"
   },
   {
    "duration": 10,
    "start_time": "2023-03-04T19:01:19.408Z"
   },
   {
    "duration": 16,
    "start_time": "2023-03-04T19:01:19.420Z"
   },
   {
    "duration": 15,
    "start_time": "2023-03-04T19:01:19.438Z"
   },
   {
    "duration": 10,
    "start_time": "2023-03-04T19:01:19.455Z"
   },
   {
    "duration": 48,
    "start_time": "2023-03-04T19:01:19.467Z"
   },
   {
    "duration": 12,
    "start_time": "2023-03-04T19:01:19.516Z"
   },
   {
    "duration": 17,
    "start_time": "2023-03-04T19:01:19.530Z"
   },
   {
    "duration": 31,
    "start_time": "2023-03-04T19:01:19.549Z"
   },
   {
    "duration": 5260,
    "start_time": "2023-03-04T19:16:24.941Z"
   },
   {
    "duration": 72,
    "start_time": "2023-03-04T19:16:30.204Z"
   },
   {
    "duration": 26,
    "start_time": "2023-03-04T19:16:30.278Z"
   },
   {
    "duration": 22,
    "start_time": "2023-03-04T19:16:30.307Z"
   },
   {
    "duration": 16,
    "start_time": "2023-03-04T19:16:30.332Z"
   },
   {
    "duration": 33,
    "start_time": "2023-03-04T19:16:30.350Z"
   },
   {
    "duration": 36,
    "start_time": "2023-03-04T19:16:30.385Z"
   },
   {
    "duration": 64,
    "start_time": "2023-03-04T19:16:30.424Z"
   },
   {
    "duration": 24,
    "start_time": "2023-03-04T19:16:30.490Z"
   },
   {
    "duration": 61,
    "start_time": "2023-03-04T19:16:30.515Z"
   },
   {
    "duration": 57,
    "start_time": "2023-03-04T19:16:30.577Z"
   },
   {
    "duration": 52,
    "start_time": "2023-03-04T19:26:51.310Z"
   },
   {
    "duration": 4953,
    "start_time": "2023-03-04T19:41:45.266Z"
   },
   {
    "duration": 77,
    "start_time": "2023-03-04T19:41:50.222Z"
   },
   {
    "duration": 14,
    "start_time": "2023-03-04T19:41:50.301Z"
   },
   {
    "duration": 16,
    "start_time": "2023-03-04T19:41:50.318Z"
   },
   {
    "duration": 14,
    "start_time": "2023-03-04T19:41:50.336Z"
   },
   {
    "duration": 19,
    "start_time": "2023-03-04T19:41:50.353Z"
   },
   {
    "duration": 16,
    "start_time": "2023-03-04T19:41:50.374Z"
   },
   {
    "duration": 45,
    "start_time": "2023-03-04T19:41:50.392Z"
   },
   {
    "duration": 14,
    "start_time": "2023-03-04T19:41:50.439Z"
   },
   {
    "duration": 21,
    "start_time": "2023-03-04T19:41:50.455Z"
   },
   {
    "duration": 13,
    "start_time": "2023-03-04T19:41:50.478Z"
   },
   {
    "duration": 67,
    "start_time": "2023-03-05T10:16:52.931Z"
   },
   {
    "duration": 8181,
    "start_time": "2023-03-05T10:21:11.820Z"
   },
   {
    "duration": 260,
    "start_time": "2023-03-05T10:21:20.003Z"
   },
   {
    "duration": 70,
    "start_time": "2023-03-05T10:21:20.264Z"
   },
   {
    "duration": 79,
    "start_time": "2023-03-05T10:21:20.336Z"
   },
   {
    "duration": 70,
    "start_time": "2023-03-05T10:21:20.417Z"
   },
   {
    "duration": 71,
    "start_time": "2023-03-05T10:21:20.489Z"
   },
   {
    "duration": 70,
    "start_time": "2023-03-05T10:21:20.562Z"
   },
   {
    "duration": 101,
    "start_time": "2023-03-05T10:21:20.634Z"
   },
   {
    "duration": 71,
    "start_time": "2023-03-05T10:21:20.737Z"
   },
   {
    "duration": 88,
    "start_time": "2023-03-05T10:21:20.811Z"
   },
   {
    "duration": 72,
    "start_time": "2023-03-05T10:21:20.901Z"
   },
   {
    "duration": 42,
    "start_time": "2023-03-05T10:21:44.262Z"
   },
   {
    "duration": 48,
    "start_time": "2023-03-05T12:54:45.565Z"
   },
   {
    "duration": 10489,
    "start_time": "2023-03-05T12:54:52.810Z"
   },
   {
    "duration": 296,
    "start_time": "2023-03-05T12:55:03.301Z"
   },
   {
    "duration": 97,
    "start_time": "2023-03-05T12:55:03.598Z"
   },
   {
    "duration": 83,
    "start_time": "2023-03-05T12:55:03.697Z"
   },
   {
    "duration": 85,
    "start_time": "2023-03-05T12:55:03.782Z"
   },
   {
    "duration": 78,
    "start_time": "2023-03-05T12:55:03.869Z"
   },
   {
    "duration": 78,
    "start_time": "2023-03-05T12:55:03.960Z"
   },
   {
    "duration": 135,
    "start_time": "2023-03-05T12:55:04.039Z"
   },
   {
    "duration": 90,
    "start_time": "2023-03-05T12:55:04.176Z"
   },
   {
    "duration": 97,
    "start_time": "2023-03-05T12:55:04.268Z"
   },
   {
    "duration": 93,
    "start_time": "2023-03-05T12:55:04.367Z"
   },
   {
    "duration": 121,
    "start_time": "2023-03-05T12:55:35.186Z"
   },
   {
    "duration": 8741,
    "start_time": "2023-03-05T12:57:45.563Z"
   },
   {
    "duration": 296,
    "start_time": "2023-03-05T12:57:54.306Z"
   },
   {
    "duration": 78,
    "start_time": "2023-03-05T12:57:54.603Z"
   },
   {
    "duration": 74,
    "start_time": "2023-03-05T12:57:54.683Z"
   },
   {
    "duration": 74,
    "start_time": "2023-03-05T12:57:54.759Z"
   },
   {
    "duration": 76,
    "start_time": "2023-03-05T12:57:54.835Z"
   },
   {
    "duration": 75,
    "start_time": "2023-03-05T12:57:54.914Z"
   },
   {
    "duration": 113,
    "start_time": "2023-03-05T12:57:54.991Z"
   },
   {
    "duration": 77,
    "start_time": "2023-03-05T12:57:55.105Z"
   },
   {
    "duration": 83,
    "start_time": "2023-03-05T12:57:55.185Z"
   },
   {
    "duration": 81,
    "start_time": "2023-03-05T12:57:55.269Z"
   },
   {
    "duration": 8984,
    "start_time": "2023-03-05T12:59:02.029Z"
   },
   {
    "duration": 283,
    "start_time": "2023-03-05T12:59:11.017Z"
   },
   {
    "duration": 81,
    "start_time": "2023-03-05T12:59:11.302Z"
   },
   {
    "duration": 79,
    "start_time": "2023-03-05T12:59:11.387Z"
   },
   {
    "duration": 83,
    "start_time": "2023-03-05T12:59:11.468Z"
   },
   {
    "duration": 85,
    "start_time": "2023-03-05T12:59:11.552Z"
   },
   {
    "duration": 84,
    "start_time": "2023-03-05T12:59:11.638Z"
   },
   {
    "duration": 121,
    "start_time": "2023-03-05T12:59:11.724Z"
   },
   {
    "duration": 87,
    "start_time": "2023-03-05T12:59:11.847Z"
   },
   {
    "duration": 94,
    "start_time": "2023-03-05T12:59:11.936Z"
   },
   {
    "duration": 84,
    "start_time": "2023-03-05T12:59:12.031Z"
   }
  ],
  "kernelspec": {
   "display_name": "Python 3 (ipykernel)",
   "language": "python",
   "name": "python3"
  },
  "language_info": {
   "codemirror_mode": {
    "name": "ipython",
    "version": 3
   },
   "file_extension": ".py",
   "mimetype": "text/x-python",
   "name": "python",
   "nbconvert_exporter": "python",
   "pygments_lexer": "ipython3",
   "version": "3.9.5"
  },
  "toc": {
   "base_numbering": 1,
   "nav_menu": {},
   "number_sections": true,
   "sideBar": true,
   "skip_h1_title": true,
   "title_cell": "Table of Contents",
   "title_sidebar": "Contents",
   "toc_cell": false,
   "toc_position": {},
   "toc_section_display": true,
   "toc_window_display": false
  }
 },
 "nbformat": 4,
 "nbformat_minor": 2
}
